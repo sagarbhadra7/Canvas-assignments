{
  "nbformat": 4,
  "nbformat_minor": 0,
  "metadata": {
    "colab": {
      "name": "Assignment 1.ipynb",
      "provenance": [],
      "authorship_tag": "ABX9TyMXQVlISDofAesjOKEaPQIX",
      "include_colab_link": true
    },
    "kernelspec": {
      "name": "python3",
      "display_name": "Python 3"
    }
  },
  "cells": [
    {
      "cell_type": "markdown",
      "metadata": {
        "id": "view-in-github",
        "colab_type": "text"
      },
      "source": [
        "<a href=\"https://colab.research.google.com/github/sagarbhadra7/Canvas-assignments/blob/master/Assignment_1.ipynb\" target=\"_parent\"><img src=\"https://colab.research.google.com/assets/colab-badge.svg\" alt=\"Open In Colab\"/></a>"
      ]
    },
    {
      "cell_type": "markdown",
      "metadata": {
        "id": "1nWimb7X9yhM",
        "colab_type": "text"
      },
      "source": [
        "Write a program which will find all such numbers which are divisible by 7 but are not a multiple\n",
        "of 5, between 2000 and 3200 (both included). The numbers obtained should be printed in a\n",
        "comma-separated sequence on a single line.\n"
      ]
    },
    {
      "cell_type": "code",
      "metadata": {
        "id": "seFk8THS99af",
        "colab_type": "code",
        "colab": {
          "base_uri": "https://localhost:8080/",
          "height": 54
        },
        "outputId": "1e76591b-cbf9-45c1-e4ba-670ac8a865a2"
      },
      "source": [
        "for i in range(2000,3201):\n",
        "  if(i%7==0 and i%5!=0):\n",
        "    print(i,end=',')"
      ],
      "execution_count": 15,
      "outputs": [
        {
          "output_type": "stream",
          "text": [
            "2002,2009,2016,2023,2037,2044,2051,2058,2072,2079,2086,2093,2107,2114,2121,2128,2142,2149,2156,2163,2177,2184,2191,2198,2212,2219,2226,2233,2247,2254,2261,2268,2282,2289,2296,2303,2317,2324,2331,2338,2352,2359,2366,2373,2387,2394,2401,2408,2422,2429,2436,2443,2457,2464,2471,2478,2492,2499,2506,2513,2527,2534,2541,2548,2562,2569,2576,2583,2597,2604,2611,2618,2632,2639,2646,2653,2667,2674,2681,2688,2702,2709,2716,2723,2737,2744,2751,2758,2772,2779,2786,2793,2807,2814,2821,2828,2842,2849,2856,2863,2877,2884,2891,2898,2912,2919,2926,2933,2947,2954,2961,2968,2982,2989,2996,3003,3017,3024,3031,3038,3052,3059,3066,3073,3087,3094,3101,3108,3122,3129,3136,3143,3157,3164,3171,3178,3192,3199,"
          ],
          "name": "stdout"
        }
      ]
    },
    {
      "cell_type": "markdown",
      "metadata": {
        "id": "WBGFj2DF_OrW",
        "colab_type": "text"
      },
      "source": [
        "Write a Python program to accept the user's first and last name and then getting them printed in\n",
        "the the reverse order with a space between first name and last name.\n"
      ]
    },
    {
      "cell_type": "code",
      "metadata": {
        "id": "YOnksqQh-BjE",
        "colab_type": "code",
        "colab": {
          "base_uri": "https://localhost:8080/",
          "height": 34
        },
        "outputId": "ffcd70a9-aa72-4bbf-f295-65aefd0c6a75"
      },
      "source": [
        "name=input(\"Please provide full Name:(First name and Last Name\")"
      ],
      "execution_count": 17,
      "outputs": [
        {
          "output_type": "stream",
          "text": [
            "Please provide full Name:(First name and Last NameSagar Bhadra\n"
          ],
          "name": "stdout"
        }
      ]
    },
    {
      "cell_type": "code",
      "metadata": {
        "id": "HaWvL_pQ_aWG",
        "colab_type": "code",
        "colab": {
          "base_uri": "https://localhost:8080/",
          "height": 34
        },
        "outputId": "0fad6557-f05b-43e9-8475-43789453264a"
      },
      "source": [
        "l=name.split()\n",
        "l"
      ],
      "execution_count": 37,
      "outputs": [
        {
          "output_type": "execute_result",
          "data": {
            "text/plain": [
              "['Sagar', 'Bhadra']"
            ]
          },
          "metadata": {
            "tags": []
          },
          "execution_count": 37
        }
      ]
    },
    {
      "cell_type": "code",
      "metadata": {
        "id": "nrUrzaFN_eyI",
        "colab_type": "code",
        "colab": {
          "base_uri": "https://localhost:8080/",
          "height": 34
        },
        "outputId": "f0777fbe-26bb-436d-e4a8-1a93d480f352"
      },
      "source": [
        "print(l[1],\" \",l[0])"
      ],
      "execution_count": 36,
      "outputs": [
        {
          "output_type": "stream",
          "text": [
            "Bhadra   Sagar\n"
          ],
          "name": "stdout"
        }
      ]
    },
    {
      "cell_type": "markdown",
      "metadata": {
        "id": "9VAua63iBXHs",
        "colab_type": "text"
      },
      "source": [
        "Write a Python program to find the volume of a sphere with diameter 12 cm.\n",
        "Formula: V=4/3 * π * r\n",
        "3"
      ]
    },
    {
      "cell_type": "code",
      "metadata": {
        "id": "1wp-Bvqt_nCY",
        "colab_type": "code",
        "colab": {}
      },
      "source": [
        "r=12\n",
        "pi=22/7"
      ],
      "execution_count": 0,
      "outputs": []
    },
    {
      "cell_type": "code",
      "metadata": {
        "id": "WJoLBvlJBdcV",
        "colab_type": "code",
        "colab": {}
      },
      "source": [
        "def volume(r):\n",
        "  return (4*pi*r**3)/3"
      ],
      "execution_count": 0,
      "outputs": []
    },
    {
      "cell_type": "code",
      "metadata": {
        "id": "xW9kS_AjBren",
        "colab_type": "code",
        "colab": {
          "base_uri": "https://localhost:8080/",
          "height": 34
        },
        "outputId": "b56d8dd4-3933-4743-bf2e-074992bc316e"
      },
      "source": [
        "print(\"voulme of sphere is \"+str(volume(r)))"
      ],
      "execution_count": 41,
      "outputs": [
        {
          "output_type": "stream",
          "text": [
            "voulme of sphere is 7241.142857142858\n"
          ],
          "name": "stdout"
        }
      ]
    },
    {
      "cell_type": "markdown",
      "metadata": {
        "id": "59cDl38VCC6-",
        "colab_type": "text"
      },
      "source": [
        "Write a program which accepts a sequence of comma-separated numbers from console and\n",
        "generate a list.\n"
      ]
    },
    {
      "cell_type": "code",
      "metadata": {
        "id": "A13l5LYtCAo5",
        "colab_type": "code",
        "colab": {
          "base_uri": "https://localhost:8080/",
          "height": 34
        },
        "outputId": "7867df21-5e4e-46db-f3f1-dc1e96446456"
      },
      "source": [
        "l=input(\"Please provide number with comma seprated\")"
      ],
      "execution_count": 43,
      "outputs": [
        {
          "output_type": "stream",
          "text": [
            "Please provide number with comma seprated1,2,3,4,5,6,7,8,9\n"
          ],
          "name": "stdout"
        }
      ]
    },
    {
      "cell_type": "code",
      "metadata": {
        "id": "7dfAJx8fCROS",
        "colab_type": "code",
        "colab": {
          "base_uri": "https://localhost:8080/",
          "height": 34
        },
        "outputId": "7b9368e4-f5a8-443d-aa12-573488d44461"
      },
      "source": [
        "l"
      ],
      "execution_count": 44,
      "outputs": [
        {
          "output_type": "execute_result",
          "data": {
            "text/plain": [
              "'1,2,3,4,5,6,7,8,9'"
            ]
          },
          "metadata": {
            "tags": []
          },
          "execution_count": 44
        }
      ]
    },
    {
      "cell_type": "code",
      "metadata": {
        "id": "b_Blh_hYCXYU",
        "colab_type": "code",
        "colab": {}
      },
      "source": [
        "l1=l.split(',')"
      ],
      "execution_count": 0,
      "outputs": []
    },
    {
      "cell_type": "code",
      "metadata": {
        "id": "t66JqyGICfok",
        "colab_type": "code",
        "colab": {
          "base_uri": "https://localhost:8080/",
          "height": 34
        },
        "outputId": "e7628d33-e5c7-4954-e77e-d040479dba06"
      },
      "source": [
        "l1"
      ],
      "execution_count": 48,
      "outputs": [
        {
          "output_type": "execute_result",
          "data": {
            "text/plain": [
              "['1', '2', '3', '4', '5', '6', '7', '8', '9']"
            ]
          },
          "metadata": {
            "tags": []
          },
          "execution_count": 48
        }
      ]
    },
    {
      "cell_type": "markdown",
      "metadata": {
        "id": "Hnh6UyyaC1WP",
        "colab_type": "text"
      },
      "source": [
        "Create the below pattern using nested for loop in Python.\n",
        "*\n",
        "* *\n",
        "* * *\n",
        "* * * *\n",
        "* * * * *\n",
        "* * * *\n",
        "* * *\n",
        "* *\n",
        "*"
      ]
    },
    {
      "cell_type": "code",
      "metadata": {
        "id": "riDqIjbPCu3E",
        "colab_type": "code",
        "colab": {
          "base_uri": "https://localhost:8080/",
          "height": 202
        },
        "outputId": "33bada83-c303-4891-e0da-41da0a0ded0a"
      },
      "source": [
        "for i in range(1,7):\n",
        "  print()\n",
        "  for j in range(1,i):\n",
        "    print('*',end=' ')\n",
        "for i in range(5,1,-1):\n",
        "  print()\n",
        "  for k in range(i,1,-1):\n",
        "    print('*',end=' ')"
      ],
      "execution_count": 69,
      "outputs": [
        {
          "output_type": "stream",
          "text": [
            "\n",
            "\n",
            "* \n",
            "* * \n",
            "* * * \n",
            "* * * * \n",
            "* * * * * \n",
            "* * * * \n",
            "* * * \n",
            "* * \n",
            "* "
          ],
          "name": "stdout"
        }
      ]
    },
    {
      "cell_type": "code",
      "metadata": {
        "id": "Dmg6dHmTEhPr",
        "colab_type": "code",
        "colab": {
          "base_uri": "https://localhost:8080/",
          "height": 185
        },
        "outputId": "f05bcbc8-abfb-4aa2-f306-1bc43b596691"
      },
      "source": [
        "n=5;\n",
        "for i in range(n):\n",
        "    for j in range(i):\n",
        "        print ('* ', end=\"\")\n",
        "    print('')\n",
        "\n",
        "for i in range(n,0,-1):\n",
        "    for j in range(i):\n",
        "        print('* ', end=\"\")\n",
        "    print('')"
      ],
      "execution_count": 70,
      "outputs": [
        {
          "output_type": "stream",
          "text": [
            "\n",
            "* \n",
            "* * \n",
            "* * * \n",
            "* * * * \n",
            "* * * * * \n",
            "* * * * \n",
            "* * * \n",
            "* * \n",
            "* \n"
          ],
          "name": "stdout"
        }
      ]
    },
    {
      "cell_type": "markdown",
      "metadata": {
        "id": "aj2IQI-dFQgE",
        "colab_type": "text"
      },
      "source": [
        "Write a Python program to reverse a word after accepting the input from the user"
      ]
    },
    {
      "cell_type": "code",
      "metadata": {
        "id": "amSBWjL5FGNX",
        "colab_type": "code",
        "colab": {
          "base_uri": "https://localhost:8080/",
          "height": 34
        },
        "outputId": "2f723844-f1f9-4c8d-b0db-382d7174796b"
      },
      "source": [
        "s=input('Please provide string')"
      ],
      "execution_count": 71,
      "outputs": [
        {
          "output_type": "stream",
          "text": [
            "Please provide stringSagar bhadra\n"
          ],
          "name": "stdout"
        }
      ]
    },
    {
      "cell_type": "code",
      "metadata": {
        "id": "p5JPX6aoFXj-",
        "colab_type": "code",
        "colab": {}
      },
      "source": [
        "rs=s[::-1]"
      ],
      "execution_count": 0,
      "outputs": []
    },
    {
      "cell_type": "code",
      "metadata": {
        "id": "WzgewE0AFeaz",
        "colab_type": "code",
        "colab": {
          "base_uri": "https://localhost:8080/",
          "height": 34
        },
        "outputId": "239dd4a3-0177-44e7-8bf2-67a30719e58d"
      },
      "source": [
        "rs"
      ],
      "execution_count": 74,
      "outputs": [
        {
          "output_type": "execute_result",
          "data": {
            "text/plain": [
              "'ardahb ragaS'"
            ]
          },
          "metadata": {
            "tags": []
          },
          "execution_count": 74
        }
      ]
    },
    {
      "cell_type": "markdown",
      "metadata": {
        "id": "yQtR5f-DGRUE",
        "colab_type": "text"
      },
      "source": [
        "Write a Python Program to print the given string in the format specified in the sample output.\n",
        "WE, THE PEOPLE OF INDIA, having solemnly resolved to constitute India into a\n",
        "SOVEREIGN, SOCIALIST, SECULAR, DEMOCRATIC REPUBLIC and to secure to all\n",
        "its citizens\n",
        "Sample Output:\n",
        "WE, THE PEOPLE OF INDIA,\n",
        "having solemnly resolved to constitute India into a SOVEREIGN, !\n",
        "SOCIALIST, SECULAR, DEMOCRATIC REPUBLIC\n",
        "and to secure to all its citizens\n"
      ]
    },
    {
      "cell_type": "code",
      "metadata": {
        "id": "1tj0MJivFhhz",
        "colab_type": "code",
        "colab": {
          "base_uri": "https://localhost:8080/",
          "height": 84
        },
        "outputId": "c15b3770-2f69-4c82-dc07-a68365fe84f5"
      },
      "source": [
        "string = \"WE, THE PEOPLE OF INDIA,{}having solemnly resolved to constitute India into a SOVEREIGN,{}SOCIALIST, SECULAR, DEMOCRATIC REPUBLIC{}and to secure to all its citizens{}\"\n",
        "print(string.format('\\n\\t','!\\n\\t\\t','\\n\\t\\t',':'))"
      ],
      "execution_count": 75,
      "outputs": [
        {
          "output_type": "stream",
          "text": [
            "WE, THE PEOPLE OF INDIA,\n",
            "\thaving solemnly resolved to constitute India into a SOVEREIGN,!\n",
            "\t\tSOCIALIST, SECULAR, DEMOCRATIC REPUBLIC\n",
            "\t\tand to secure to all its citizens:\n"
          ],
          "name": "stdout"
        }
      ]
    },
    {
      "cell_type": "code",
      "metadata": {
        "id": "xBK57eX9GKBO",
        "colab_type": "code",
        "colab": {}
      },
      "source": [
        ""
      ],
      "execution_count": 0,
      "outputs": []
    }
  ]
}